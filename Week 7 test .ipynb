{
 "cells": [
  {
   "cell_type": "code",
   "execution_count": 1,
   "metadata": {},
   "outputs": [],
   "source": [
    "from calciumflexanalysis import calcium_flex as cal\n",
    "from calciumflexanalysis import multiplate as mp\n",
    "import numpy as np\n",
    "import matplotlib.pyplot as plt\n",
    "from collections import defaultdict\n",
    "import pandas as pd\n",
    "from scipy.optimize import curve_fit\n",
    "import matplotlib.patches as mpl_patches\n"
   ]
  },
  {
   "cell_type": "code",
   "execution_count": 2,
   "metadata": {},
   "outputs": [],
   "source": [
    "def _ec50_func(x,top,bottom, ec50, hill):\n",
    "    z=(ec50/x)**hill\n",
    "    return (bottom + ((top-bottom)/(1+z)))   \n",
    "\n",
    "def _ic50_func(x,top,bottom, ic50, hill):\n",
    "    z=(ic50/x)**hill\n",
    "    return (top - ((top-bottom)/(1+z)))"
   ]
  },
  {
   "cell_type": "code",
   "execution_count": 3,
   "metadata": {},
   "outputs": [],
   "source": [
    "# text file to be read in (raw file from machine)\n",
    "datafile = '291019 TPC4sYFP2 EA 30 nM act IBP74 inhib 3 nM to 3 uM.txt' \n",
    "datafile2 = '07052019 C4sYFP2 IBP21 IBP23 INHIBITION 300 nM to 1 nM.txt'\n",
    "# plate map csv file updated by user (either the 'short' or 'long' template)\n",
    "mapcsv = 'EA 30 nM act IBP74 3nM to 3 uM.csv' \n",
    "mapcsv2 = 'different compounds.csv'\n",
    "# insert the 2 files into the 'CaFlexAnalysis' class\n",
    "plate1 = cal.CaFlexPlate(raw_data = datafile, plate_map_file = mapcsv, inject = 60, data_type = 'new')\n",
    "plate2 = cal.CaFlexPlate(raw_data = datafile2, plate_map_file = mapcsv2, inject = 60, data_type = 'old')"
   ]
  },
  {
   "cell_type": "code",
   "execution_count": 4,
   "metadata": {},
   "outputs": [
    {
     "data": {
      "text/plain": [
       "{'plate_1': '291019 TPC4sYFP2 EA 30 nM act IBP74 inhib 3 nM to 3 uM',\n",
       " 'plate_2': '07052019 C4sYFP2 IBP21 IBP23 INHIBITION 300 nM to 1 nM'}"
      ]
     },
     "execution_count": 4,
     "metadata": {},
     "output_type": "execute_result"
    }
   ],
   "source": [
    "plates = [plate1, plate2]\n",
    "\n",
    "plates = mp.CaFlexGroup(plates)\n",
    "\n",
    "plates.titles"
   ]
  },
  {
   "cell_type": "code",
   "execution_count": 5,
   "metadata": {},
   "outputs": [],
   "source": [
    "# plates.data"
   ]
  },
  {
   "cell_type": "code",
   "execution_count": 6,
   "metadata": {},
   "outputs": [],
   "source": [
    "# plates.plate_maps"
   ]
  },
  {
   "cell_type": "code",
   "execution_count": 7,
   "metadata": {},
   "outputs": [],
   "source": [
    "# plates.visualise_plates(share_y = True)"
   ]
  },
  {
   "cell_type": "code",
   "execution_count": 8,
   "metadata": {},
   "outputs": [],
   "source": [
    "# plates.see_plates()"
   ]
  },
  {
   "cell_type": "code",
   "execution_count": 9,
   "metadata": {},
   "outputs": [
    {
     "name": "stdout",
     "output_type": "stream",
     "text": [
      "baseline corrected!\n"
     ]
    }
   ],
   "source": [
    "plates.baseline_correct()"
   ]
  },
  {
   "cell_type": "code",
   "execution_count": 10,
   "metadata": {},
   "outputs": [
    {
     "data": {
      "text/plain": [
       "(46, 56)"
      ]
     },
     "execution_count": 10,
     "metadata": {},
     "output_type": "execute_result"
    }
   ],
   "source": [
    "plates.get_window('baseline_corrected')"
   ]
  },
  {
   "cell_type": "code",
   "execution_count": 11,
   "metadata": {},
   "outputs": [],
   "source": [
    "# plates.plot_conditions('baseline_corrected', title = \"TRPC5-COLLINS\", plate_number = True)"
   ]
  },
  {
   "cell_type": "code",
   "execution_count": 12,
   "metadata": {},
   "outputs": [
    {
     "name": "stdout",
     "output_type": "stream",
     "text": [
      "self.data updated. See self.data[baseline_corrected]['grouped']\n"
     ]
    }
   ],
   "source": [
    "plates.group_data('baseline_corrected')"
   ]
  },
  {
   "cell_type": "code",
   "execution_count": 13,
   "metadata": {},
   "outputs": [
    {
     "name": "stdout",
     "output_type": "stream",
     "text": [
      "all windows equal, self.window updated\n"
     ]
    },
    {
     "data": {
      "text/plain": [
       "['Protein', 'Type', 'Compound', 'Concentration', 'Concentration Units']"
      ]
     },
     "execution_count": 13,
     "metadata": {},
     "output_type": "execute_result"
    }
   ],
   "source": [
    "plates.def_window(150, 'ratio')\n",
    "plates.grouplist"
   ]
  },
  {
   "cell_type": "code",
   "execution_count": 14,
   "metadata": {},
   "outputs": [
    {
     "name": "stdout",
     "output_type": "stream",
     "text": [
      "self.processed_data['plateau']['data'] updated for plate 1.\n",
      "self.processed_data['plateau']['data'] updated for plate 2.\n"
     ]
    }
   ],
   "source": [
    "plates.amplitude('baseline_corrected')"
   ]
  },
  {
   "cell_type": "code",
   "execution_count": 20,
   "metadata": {},
   "outputs": [
    {
     "data": {
      "text/plain": [
       "{'data':     Well ID      Type                 Contents Compound  Protein  \\\n",
       " 0        A1   control                  EA+DMSO     none  EA [30]   \n",
       " 1        A2   control                  EA+DMSO     none  EA [30]   \n",
       " 2        A3   control                  EA+DMSO     none  EA [30]   \n",
       " 3        A4   control                  EA+DMSO     none  EA [30]   \n",
       " 4        A5   control                  EA+DMSO     none  EA [30]   \n",
       " ..      ...       ...                      ...      ...      ...   \n",
       " 187      H8  compound  EA(30 nM) +IBP23 (1 nM)    IBP23  EA [30]   \n",
       " 188      H9  compound  EA(30 nM) +IBP23 (1 nM)    IBP23  EA [30]   \n",
       " 189     H10  compound  EA(30 nM) +IBP23 (1 nM)    IBP23  EA [30]   \n",
       " 190     H11  compound  EA(30 nM) +IBP23 (1 nM)    IBP23  EA [30]   \n",
       " 191     H12  compound  EA(30 nM) +IBP23 (1 nM)    IBP23  EA [30]   \n",
       " \n",
       "     Concentration Concentration Units Row  Column  Valid  ...        51  \\\n",
       " 0            none                  nM   A       1   True  ...  2.620893   \n",
       " 1            none                  nM   A       2   True  ...  2.540427   \n",
       " 2            none                  nM   A       3   True  ...  2.293340   \n",
       " 3            none                  nM   A       4   True  ...  2.409792   \n",
       " 4            none                  nM   A       5   True  ...  2.509785   \n",
       " ..            ...                 ...  ..     ...    ...  ...       ...   \n",
       " 187             1                  nM   H       8   True  ...  1.120464   \n",
       " 188             1                  nM   H       9   True  ...  0.738606   \n",
       " 189             1                  nM   H      10   True  ...  0.778137   \n",
       " 190             1                  nM   H      11   True  ...  1.209277   \n",
       " 191             1                  nM   H      12   True  ...  1.018065   \n",
       " \n",
       "            52        53        54        55        56        57        58  \\\n",
       " 0    2.668544  2.670405  2.744948  2.726298  2.769590  2.753098  2.705039   \n",
       " 1    2.675564  2.601953  2.622225  2.596404  2.679253  2.564497  2.604900   \n",
       " 2    2.329229  2.332076  2.394823  2.333201  2.410864  2.350879  2.467738   \n",
       " 3    2.475973  2.479832  2.381342  2.494889  2.438239  2.552847  2.482729   \n",
       " 4    2.604422  2.480884  2.529753  2.484638  2.601208  2.575896  2.642743   \n",
       " ..        ...       ...       ...       ...       ...       ...       ...   \n",
       " 187  1.102182  1.114054  1.064004  1.123443  1.105663  1.031568  1.078020   \n",
       " 188  0.831622  0.797449  0.767824  0.712141  0.662927  0.743779  0.790380   \n",
       " 189  0.734335  0.804844  0.783816  0.762600  0.722540  0.726682  0.772781   \n",
       " 190  1.060224  1.135747  1.050854  1.062854  1.118667  1.098186  1.143814   \n",
       " 191  1.052133  1.053166  1.056223  1.018398  0.912605  0.962877  0.985646   \n",
       " \n",
       "            59        60  \n",
       " 0    2.765767  2.713583  \n",
       " 1    2.637823  2.618984  \n",
       " 2    2.395839  2.440393  \n",
       " 3    2.557879  2.473658  \n",
       " 4    2.639410  2.572414  \n",
       " ..        ...       ...  \n",
       " 187  1.093419       NaN  \n",
       " 188  0.757768       NaN  \n",
       " 189  0.584507       NaN  \n",
       " 190  1.109905       NaN  \n",
       " 191  0.936003       NaN  \n",
       " \n",
       " [192 rows x 71 columns],\n",
       " 'time':     Well ID      Type                 Contents Compound  Protein  \\\n",
       " 0        A1   control                  EA+DMSO     none  EA [30]   \n",
       " 1        A2   control                  EA+DMSO     none  EA [30]   \n",
       " 2        A3   control                  EA+DMSO     none  EA [30]   \n",
       " 3        A4   control                  EA+DMSO     none  EA [30]   \n",
       " 4        A5   control                  EA+DMSO     none  EA [30]   \n",
       " ..      ...       ...                      ...      ...      ...   \n",
       " 187      H8  compound  EA(30 nM) +IBP23 (1 nM)    IBP23  EA [30]   \n",
       " 188      H9  compound  EA(30 nM) +IBP23 (1 nM)    IBP23  EA [30]   \n",
       " 189     H10  compound  EA(30 nM) +IBP23 (1 nM)    IBP23  EA [30]   \n",
       " 190     H11  compound  EA(30 nM) +IBP23 (1 nM)    IBP23  EA [30]   \n",
       " 191     H12  compound  EA(30 nM) +IBP23 (1 nM)    IBP23  EA [30]   \n",
       " \n",
       "     Concentration Concentration Units Row  Column  Valid  ...        51  \\\n",
       " 0            none                  nM   A       1   True  ...  256.5506   \n",
       " 1            none                  nM   A       2   True  ...  257.4442   \n",
       " 2            none                  nM   A       3   True  ...  257.4018   \n",
       " 3            none                  nM   A       4   True  ...  257.3552   \n",
       " 4            none                  nM   A       5   True  ...  257.3050   \n",
       " ..            ...                 ...  ..     ...    ...  ...       ...   \n",
       " 187             1                  nM   H       8   True  ...  256.7556   \n",
       " 188             1                  nM   H       9   True  ...  256.7258   \n",
       " 189             1                  nM   H      10   True  ...  256.6808   \n",
       " 190             1                  nM   H      11   True  ...  256.6442   \n",
       " 191             1                  nM   H      12   True  ...  256.6030   \n",
       " \n",
       "            52        53        54        55        56        57        58  \\\n",
       " 0    261.5574  266.5777  271.5716  276.5729  281.5569  286.5535  291.5688   \n",
       " 1    262.4395  267.4386  272.4304  277.4446  282.4511  287.4464  292.4420   \n",
       " 2    262.3880  267.3874  272.3980  277.3932  282.3846  287.3902  292.3992   \n",
       " 3    262.3404  267.3406  272.3314  277.3366  282.3430  287.3330  292.3336   \n",
       " 4    262.2900  267.3058  272.2948  277.2952  282.2762  287.2820  292.2910   \n",
       " ..        ...       ...       ...       ...       ...       ...       ...   \n",
       " 187  261.7604  266.7652  271.7700  276.7492  281.7668  286.7588  291.7508   \n",
       " 188  261.7178  266.7226  271.7146  276.7066  281.7370  286.7034  291.7082   \n",
       " 189  261.6600  266.6776  271.6696  276.6488  281.6536  286.6584  291.6376   \n",
       " 190  261.6362  266.6282  271.6458  276.6250  281.6426  286.6346  291.6522   \n",
       " 191  261.6078  266.5870  271.5918  276.5838  281.6014  286.6062  291.6238   \n",
       " \n",
       "            59        60  \n",
       " 0    296.5590  301.5441  \n",
       " 1    297.4473  302.4425  \n",
       " 2    297.3904  302.4058  \n",
       " 3    297.3480  302.3530  \n",
       " 4    297.3076  302.2928  \n",
       " ..        ...       ...  \n",
       " 187  296.7812       NaN  \n",
       " 188  296.7258       NaN  \n",
       " 189  296.6680       NaN  \n",
       " 190  296.6442       NaN  \n",
       " 191  296.6158       NaN  \n",
       " \n",
       " [192 rows x 71 columns]}"
      ]
     },
     "execution_count": 20,
     "metadata": {},
     "output_type": "execute_result"
    }
   ],
   "source": [
    "# self.data['baseline_corrected']['grouped']"
   ]
  },
  {
   "cell_type": "code",
   "execution_count": 15,
   "metadata": {},
   "outputs": [
    {
     "data": {
      "text/html": [
       "<div>\n",
       "<style scoped>\n",
       "    .dataframe tbody tr th:only-of-type {\n",
       "        vertical-align: middle;\n",
       "    }\n",
       "\n",
       "    .dataframe tbody tr th {\n",
       "        vertical-align: top;\n",
       "    }\n",
       "\n",
       "    .dataframe thead th {\n",
       "        text-align: right;\n",
       "    }\n",
       "</style>\n",
       "<table border=\"1\" class=\"dataframe\">\n",
       "  <thead>\n",
       "    <tr style=\"text-align: right;\">\n",
       "      <th></th>\n",
       "      <th>Protein</th>\n",
       "      <th>Type</th>\n",
       "      <th>Compound</th>\n",
       "      <th>Concentration</th>\n",
       "      <th>Concentration Units</th>\n",
       "      <th>Amplitude</th>\n",
       "      <th>Amplitude Error</th>\n",
       "    </tr>\n",
       "  </thead>\n",
       "  <tbody>\n",
       "    <tr>\n",
       "      <th>0</th>\n",
       "      <td>-1</td>\n",
       "      <td>blank</td>\n",
       "      <td>-1</td>\n",
       "      <td>-1.0</td>\n",
       "      <td>-1</td>\n",
       "      <td>0.266241</td>\n",
       "      <td>0.271226</td>\n",
       "    </tr>\n",
       "    <tr>\n",
       "      <th>1</th>\n",
       "      <td>-1</td>\n",
       "      <td>empty</td>\n",
       "      <td>-1</td>\n",
       "      <td>-1.0</td>\n",
       "      <td>-1</td>\n",
       "      <td>NaN</td>\n",
       "      <td>NaN</td>\n",
       "    </tr>\n",
       "    <tr>\n",
       "      <th>2</th>\n",
       "      <td>EA [30]</td>\n",
       "      <td>compound</td>\n",
       "      <td>IBP21</td>\n",
       "      <td>1.0</td>\n",
       "      <td>nM</td>\n",
       "      <td>1.212452</td>\n",
       "      <td>0.033602</td>\n",
       "    </tr>\n",
       "    <tr>\n",
       "      <th>3</th>\n",
       "      <td>EA [30]</td>\n",
       "      <td>compound</td>\n",
       "      <td>IBP21</td>\n",
       "      <td>3.0</td>\n",
       "      <td>nM</td>\n",
       "      <td>1.100564</td>\n",
       "      <td>0.030335</td>\n",
       "    </tr>\n",
       "    <tr>\n",
       "      <th>4</th>\n",
       "      <td>EA [30]</td>\n",
       "      <td>compound</td>\n",
       "      <td>IBP21</td>\n",
       "      <td>10.0</td>\n",
       "      <td>nM</td>\n",
       "      <td>0.829658</td>\n",
       "      <td>0.030462</td>\n",
       "    </tr>\n",
       "    <tr>\n",
       "      <th>5</th>\n",
       "      <td>EA [30]</td>\n",
       "      <td>compound</td>\n",
       "      <td>IBP21</td>\n",
       "      <td>30.0</td>\n",
       "      <td>nM</td>\n",
       "      <td>0.405245</td>\n",
       "      <td>0.028458</td>\n",
       "    </tr>\n",
       "    <tr>\n",
       "      <th>6</th>\n",
       "      <td>EA [30]</td>\n",
       "      <td>compound</td>\n",
       "      <td>IBP21</td>\n",
       "      <td>100.0</td>\n",
       "      <td>nM</td>\n",
       "      <td>0.016596</td>\n",
       "      <td>0.004194</td>\n",
       "    </tr>\n",
       "    <tr>\n",
       "      <th>7</th>\n",
       "      <td>EA [30]</td>\n",
       "      <td>compound</td>\n",
       "      <td>IBP21</td>\n",
       "      <td>300.0</td>\n",
       "      <td>nM</td>\n",
       "      <td>0.008430</td>\n",
       "      <td>0.007285</td>\n",
       "    </tr>\n",
       "    <tr>\n",
       "      <th>8</th>\n",
       "      <td>EA [30]</td>\n",
       "      <td>compound</td>\n",
       "      <td>IBP23</td>\n",
       "      <td>1.0</td>\n",
       "      <td>nM</td>\n",
       "      <td>0.795568</td>\n",
       "      <td>0.109557</td>\n",
       "    </tr>\n",
       "    <tr>\n",
       "      <th>9</th>\n",
       "      <td>EA [30]</td>\n",
       "      <td>compound</td>\n",
       "      <td>IBP23</td>\n",
       "      <td>3.0</td>\n",
       "      <td>nM</td>\n",
       "      <td>0.986874</td>\n",
       "      <td>0.059617</td>\n",
       "    </tr>\n",
       "    <tr>\n",
       "      <th>10</th>\n",
       "      <td>EA [30]</td>\n",
       "      <td>compound</td>\n",
       "      <td>IBP23</td>\n",
       "      <td>10.0</td>\n",
       "      <td>nM</td>\n",
       "      <td>0.636472</td>\n",
       "      <td>0.097510</td>\n",
       "    </tr>\n",
       "    <tr>\n",
       "      <th>11</th>\n",
       "      <td>EA [30]</td>\n",
       "      <td>compound</td>\n",
       "      <td>IBP23</td>\n",
       "      <td>30.0</td>\n",
       "      <td>nM</td>\n",
       "      <td>0.027537</td>\n",
       "      <td>0.023519</td>\n",
       "    </tr>\n",
       "    <tr>\n",
       "      <th>12</th>\n",
       "      <td>EA [30]</td>\n",
       "      <td>compound</td>\n",
       "      <td>IBP23</td>\n",
       "      <td>100.0</td>\n",
       "      <td>nM</td>\n",
       "      <td>-0.000916</td>\n",
       "      <td>0.003899</td>\n",
       "    </tr>\n",
       "    <tr>\n",
       "      <th>13</th>\n",
       "      <td>EA [30]</td>\n",
       "      <td>compound</td>\n",
       "      <td>IBP23</td>\n",
       "      <td>300.0</td>\n",
       "      <td>nM</td>\n",
       "      <td>-0.001197</td>\n",
       "      <td>0.004511</td>\n",
       "    </tr>\n",
       "    <tr>\n",
       "      <th>14</th>\n",
       "      <td>EA [30]</td>\n",
       "      <td>compound</td>\n",
       "      <td>IBP74</td>\n",
       "      <td>3.0</td>\n",
       "      <td>nM</td>\n",
       "      <td>2.057906</td>\n",
       "      <td>0.064035</td>\n",
       "    </tr>\n",
       "    <tr>\n",
       "      <th>15</th>\n",
       "      <td>EA [30]</td>\n",
       "      <td>compound</td>\n",
       "      <td>IBP74</td>\n",
       "      <td>10.0</td>\n",
       "      <td>nM</td>\n",
       "      <td>1.775412</td>\n",
       "      <td>0.134513</td>\n",
       "    </tr>\n",
       "    <tr>\n",
       "      <th>16</th>\n",
       "      <td>EA [30]</td>\n",
       "      <td>compound</td>\n",
       "      <td>IBP74</td>\n",
       "      <td>30.0</td>\n",
       "      <td>nM</td>\n",
       "      <td>1.673530</td>\n",
       "      <td>0.056580</td>\n",
       "    </tr>\n",
       "    <tr>\n",
       "      <th>17</th>\n",
       "      <td>EA [30]</td>\n",
       "      <td>compound</td>\n",
       "      <td>IBP74</td>\n",
       "      <td>100.0</td>\n",
       "      <td>nM</td>\n",
       "      <td>1.304265</td>\n",
       "      <td>0.078959</td>\n",
       "    </tr>\n",
       "    <tr>\n",
       "      <th>18</th>\n",
       "      <td>EA [30]</td>\n",
       "      <td>compound</td>\n",
       "      <td>IBP74</td>\n",
       "      <td>300.0</td>\n",
       "      <td>nM</td>\n",
       "      <td>0.823762</td>\n",
       "      <td>0.050703</td>\n",
       "    </tr>\n",
       "    <tr>\n",
       "      <th>19</th>\n",
       "      <td>EA [30]</td>\n",
       "      <td>compound</td>\n",
       "      <td>IBP74</td>\n",
       "      <td>1000.0</td>\n",
       "      <td>nM</td>\n",
       "      <td>0.448179</td>\n",
       "      <td>0.047322</td>\n",
       "    </tr>\n",
       "    <tr>\n",
       "      <th>20</th>\n",
       "      <td>EA [30]</td>\n",
       "      <td>compound</td>\n",
       "      <td>IBP74</td>\n",
       "      <td>3000.0</td>\n",
       "      <td>nM</td>\n",
       "      <td>0.329530</td>\n",
       "      <td>0.054553</td>\n",
       "    </tr>\n",
       "    <tr>\n",
       "      <th>21</th>\n",
       "      <td>EA [30]</td>\n",
       "      <td>control</td>\n",
       "      <td>-1</td>\n",
       "      <td>-1.0</td>\n",
       "      <td>nM</td>\n",
       "      <td>2.247612</td>\n",
       "      <td>0.067594</td>\n",
       "    </tr>\n",
       "    <tr>\n",
       "      <th>22</th>\n",
       "      <td>EA [30]</td>\n",
       "      <td>control</td>\n",
       "      <td>EA</td>\n",
       "      <td>-1.0</td>\n",
       "      <td>nM</td>\n",
       "      <td>1.350907</td>\n",
       "      <td>0.017043</td>\n",
       "    </tr>\n",
       "  </tbody>\n",
       "</table>\n",
       "</div>"
      ],
      "text/plain": [
       "    Protein      Type Compound  Concentration Concentration Units  Amplitude  \\\n",
       "0        -1     blank       -1           -1.0                  -1   0.266241   \n",
       "1        -1     empty       -1           -1.0                  -1        NaN   \n",
       "2   EA [30]  compound    IBP21            1.0                  nM   1.212452   \n",
       "3   EA [30]  compound    IBP21            3.0                  nM   1.100564   \n",
       "4   EA [30]  compound    IBP21           10.0                  nM   0.829658   \n",
       "5   EA [30]  compound    IBP21           30.0                  nM   0.405245   \n",
       "6   EA [30]  compound    IBP21          100.0                  nM   0.016596   \n",
       "7   EA [30]  compound    IBP21          300.0                  nM   0.008430   \n",
       "8   EA [30]  compound    IBP23            1.0                  nM   0.795568   \n",
       "9   EA [30]  compound    IBP23            3.0                  nM   0.986874   \n",
       "10  EA [30]  compound    IBP23           10.0                  nM   0.636472   \n",
       "11  EA [30]  compound    IBP23           30.0                  nM   0.027537   \n",
       "12  EA [30]  compound    IBP23          100.0                  nM  -0.000916   \n",
       "13  EA [30]  compound    IBP23          300.0                  nM  -0.001197   \n",
       "14  EA [30]  compound    IBP74            3.0                  nM   2.057906   \n",
       "15  EA [30]  compound    IBP74           10.0                  nM   1.775412   \n",
       "16  EA [30]  compound    IBP74           30.0                  nM   1.673530   \n",
       "17  EA [30]  compound    IBP74          100.0                  nM   1.304265   \n",
       "18  EA [30]  compound    IBP74          300.0                  nM   0.823762   \n",
       "19  EA [30]  compound    IBP74         1000.0                  nM   0.448179   \n",
       "20  EA [30]  compound    IBP74         3000.0                  nM   0.329530   \n",
       "21  EA [30]   control       -1           -1.0                  nM   2.247612   \n",
       "22  EA [30]   control       EA           -1.0                  nM   1.350907   \n",
       "\n",
       "    Amplitude Error  \n",
       "0          0.271226  \n",
       "1               NaN  \n",
       "2          0.033602  \n",
       "3          0.030335  \n",
       "4          0.030462  \n",
       "5          0.028458  \n",
       "6          0.004194  \n",
       "7          0.007285  \n",
       "8          0.109557  \n",
       "9          0.059617  \n",
       "10         0.097510  \n",
       "11         0.023519  \n",
       "12         0.003899  \n",
       "13         0.004511  \n",
       "14         0.064035  \n",
       "15         0.134513  \n",
       "16         0.056580  \n",
       "17         0.078959  \n",
       "18         0.050703  \n",
       "19         0.047322  \n",
       "20         0.054553  \n",
       "21         0.067594  \n",
       "22         0.017043  "
      ]
     },
     "execution_count": 15,
     "metadata": {},
     "output_type": "execute_result"
    }
   ],
   "source": [
    "# plates.mean_amplitude(combine = True)"
   ]
  },
  {
   "cell_type": "code",
   "execution_count": 16,
   "metadata": {},
   "outputs": [
    {
     "data": {
      "image/png": "[encoded data removed]",
      "text/plain": [
       "<Figure size 720x480 with 1 Axes>"
      ]
     },
     "metadata": {
      "needs_background": "light"
     },
     "output_type": "display_data"
    },
    {
     "data": {
      "image/png": "[encoded data removed]",
      "text/plain": [
       "<Figure size 720x480 with 1 Axes>"
      ]
     },
     "metadata": {
      "needs_background": "light"
     },
     "output_type": "display_data"
    }
   ],
   "source": [
    "plates.plot_curve('ic50', combine = True)"
   ]
  },
  {
   "cell_type": "code",
   "execution_count": null,
   "metadata": {},
   "outputs": [],
   "source": []
  }
 ],
 "metadata": {
  "kernelspec": {
   "display_name": "Python 3",
   "language": "python",
   "name": "python3"
  },
  "language_info": {
   "codemirror_mode": {
    "name": "ipython",
    "version": 3
   },
   "file_extension": ".py",
   "mimetype": "text/x-python",
   "name": "python",
   "nbconvert_exporter": "python",
   "pygments_lexer": "ipython3",
   "version": "3.7.6"
  }
 },
 "nbformat": 4,
 "nbformat_minor": 4
}
